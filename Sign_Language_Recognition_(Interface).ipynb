{
  "cells": [
    {
      "cell_type": "markdown",
      "metadata": {
        "id": "view-in-github",
        "colab_type": "text"
      },
      "source": [
        "<a href=\"https://colab.research.google.com/github/Jhoie/Sign-Language-Recognition/blob/main/Sign_Language_Recognition_(Interface).ipynb\" target=\"_parent\"><img src=\"https://colab.research.google.com/assets/colab-badge.svg\" alt=\"Open In Colab\"/></a>"
      ]
    },
    {
      "cell_type": "code",
      "execution_count": 1,
      "metadata": {
        "colab": {
          "base_uri": "https://localhost:8080/"
        },
        "id": "MurfY06im853",
        "outputId": "e987c87a-5863-4cd1-f0a2-3a4ee48df9e8"
      },
      "outputs": [
        {
          "output_type": "stream",
          "name": "stdout",
          "text": [
            "Looking in indexes: https://pypi.org/simple, https://us-python.pkg.dev/colab-wheels/public/simple/\n",
            "Collecting pyngrok\n",
            "  Downloading pyngrok-5.1.0.tar.gz (745 kB)\n",
            "\u001b[K     |████████████████████████████████| 745 kB 5.3 MB/s \n",
            "\u001b[?25hRequirement already satisfied: PyYAML in /usr/local/lib/python3.7/dist-packages (from pyngrok) (6.0)\n",
            "Building wheels for collected packages: pyngrok\n",
            "  Building wheel for pyngrok (setup.py) ... \u001b[?25l\u001b[?25hdone\n",
            "  Created wheel for pyngrok: filename=pyngrok-5.1.0-py3-none-any.whl size=19007 sha256=55a65a4b08dc53400fe2f1906dc7f1773939f3c704c2277ec9a25e08c474a06c\n",
            "  Stored in directory: /root/.cache/pip/wheels/bf/e6/af/ccf6598ecefecd44104069371795cb9b3afbcd16987f6ccfb3\n",
            "Successfully built pyngrok\n",
            "Installing collected packages: pyngrok\n",
            "Successfully installed pyngrok-5.1.0\n"
          ]
        }
      ],
      "source": [
        "!pip install pyngrok"
      ]
    },
    {
      "cell_type": "code",
      "execution_count": 2,
      "metadata": {
        "id": "d1247222quOg"
      },
      "outputs": [],
      "source": [
        "from __future__ import division, print_function\n",
        "# coding=utensorflow-8\n",
        "import sys\n",
        "import os\n",
        "import glob\n",
        "import re\n",
        "import numpy as np\n",
        "import tensorflow\n",
        "from keras.preprocessing import image\n",
        "from keras.applications.imagenet_utils import preprocess_input, decode_predictions\n",
        "from tensorflow.keras.utils import load_img, img_to_array"
      ]
    },
    {
      "cell_type": "code",
      "execution_count": 3,
      "metadata": {
        "id": "kyvJXNHMGijJ"
      },
      "outputs": [],
      "source": [
        "from flask import Flask, redirect, url_for, request, render_template\n",
        "from werkzeug.utils import secure_filename\n",
        "from pyngrok import ngrok"
      ]
    },
    {
      "cell_type": "code",
      "execution_count": 3,
      "metadata": {
        "id": "9SnMp30rGRIt"
      },
      "outputs": [],
      "source": [
        "\n"
      ]
    },
    {
      "cell_type": "markdown",
      "metadata": {
        "id": "BQFVr-bhm9kd"
      },
      "source": []
    },
    {
      "cell_type": "code",
      "execution_count": 4,
      "metadata": {
        "id": "mG1TsNyQG3j8"
      },
      "outputs": [],
      "source": [
        "#@title\n",
        "# To find available port on Mac run: lsof -iTCP -sTCP:LISTEN\n",
        "port_no = ***"
      ]
    },
    {
      "cell_type": "code",
      "execution_count": null,
      "metadata": {
        "id": "wVheiNjMG528"
      },
      "outputs": [],
      "source": [
        "app = Flask(__name__, template_folder='/content')\n",
        "ngrok.set_auth_token(\"******************************\")\n",
        "public_url =  ngrok.connect(port_no).public_url\n",
        "\n",
        "\n",
        "model = tensorflow.keras.models.load_model(\"save_at_1.h5\")\n",
        "\n",
        "\n",
        "print('Model loaded.')\n",
        "\n",
        "\n",
        "\n",
        "@app.route(\"/\", methods=['GET'])\n",
        "def home():\n",
        "    # return f\"Running Flask on Google Colab!\"\n",
        "    return render_template('index.html')\n",
        "\n",
        "print(f\"To access web interface please click {public_url}\")\n",
        "\n",
        "\n",
        "\n",
        "\n",
        "@app.route('/', methods=['POST'])\n",
        "def upload():\n",
        "    if request.method == 'POST':\n",
        "        # Get the file from post request\n",
        "        f = request.files['file']\n",
        "\n",
        "        # Save the file to ./uploads\n",
        "        basepath = os.getcwd()\n",
        "        file_path = os.path.join(\n",
        "            '/content/uploads', secure_filename(f.filename))\n",
        "        f.save(file_path)\n",
        "\n",
        "        \n",
        "        # process received image\n",
        "        img = load_img(file_path, target_size=(64, 64))\n",
        "        img_array = img_to_array(img)\n",
        "        img_array = tensorflow.expand_dims(img_array, 0)\n",
        "        predictions = model.predict(img_array)\n",
        "        score = predictions[0]\n",
        "       \n",
        "\n",
        "        # from hot code to label\n",
        "        predicted_class = score.argmax()\n",
        "\n",
        "        category_names = [\"A\", \"B\", \"C\", \"D\",\"E\", \"F\",\"G\",\"H\",\"I\",\"J\",\"K\",\"L\",\\\n",
        "                          \"M\",\"N\",\"O\",\"P\",\"Q\",\"R\",\"S\",\"T\",\"U\",\"V\",\\\n",
        "                          \"W\",\"X\",\"Y\",\"Z\"]\n",
        "        # Output should be 2\n",
        "        \n",
        "        predicted_class_name = category_names[predicted_class]\n",
        " \n",
        "        result = predicted_class_name\n",
        "        \n",
        "\n",
        "    # display result to int interface    \n",
        "    return render_template('index.html', result = str(result))\n",
        "\n",
        "app.run(host='0.0.0.0', port=port_no)"
      ]
    }
  ],
  "metadata": {
    "colab": {
      "collapsed_sections": [],
      "provenance": [],
      "include_colab_link": true
    },
    "kernelspec": {
      "display_name": "Python 3",
      "name": "python3"
    },
    "language_info": {
      "name": "python"
    }
  },
  "nbformat": 4,
  "nbformat_minor": 0
}